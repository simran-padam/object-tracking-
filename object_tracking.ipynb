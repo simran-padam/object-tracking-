{
  "nbformat": 4,
  "nbformat_minor": 0,
  "metadata": {
    "colab": {
      "name": "object-tracking.ipynb",
      "provenance": [],
      "collapsed_sections": [],
      "include_colab_link": true
    },
    "kernelspec": {
      "name": "python3",
      "display_name": "Python 3"
    },
    "language_info": {
      "name": "python"
    }
  },
  "cells": [
    {
      "cell_type": "markdown",
      "metadata": {
        "id": "view-in-github",
        "colab_type": "text"
      },
      "source": [
        "<a href=\"https://colab.research.google.com/github/untreated-outlier/object-tracking-/blob/main/object_tracking.ipynb\" target=\"_parent\"><img src=\"https://colab.research.google.com/assets/colab-badge.svg\" alt=\"Open In Colab\"/></a>"
      ]
    },
    {
      "cell_type": "markdown",
      "metadata": {
        "id": "FRsewyEdEzbs"
      },
      "source": [
        "Object tracking"
      ]
    },
    {
      "cell_type": "markdown",
      "metadata": {
        "id": "IvWcLyvk7_k2"
      },
      "source": [
        "env setup"
      ]
    },
    {
      "cell_type": "code",
      "metadata": {
        "id": "9XpcNnCNE1RA",
        "colab": {
          "base_uri": "https://localhost:8080/"
        },
        "outputId": "70ed02ba-2c87-4db3-eb96-e68764ccdcc2"
      },
      "source": [
        "from google.colab import drive\n",
        "drive.mount('/content/drive')"
      ],
      "execution_count": 3,
      "outputs": [
        {
          "output_type": "stream",
          "name": "stdout",
          "text": [
            "Drive already mounted at /content/drive; to attempt to forcibly remount, call drive.mount(\"/content/drive\", force_remount=True).\n"
          ]
        }
      ]
    },
    {
      "cell_type": "code",
      "metadata": {
        "id": "gKO9o5LBCbA0"
      },
      "source": [
        "from google.colab import files\n",
        "uploaded = files.upload()"
      ],
      "execution_count": null,
      "outputs": []
    },
    {
      "cell_type": "code",
      "metadata": {
        "id": "wh0uwwIA6B0o"
      },
      "source": [
        "!cp drive/MyDrive/object-tracking-main/tracker.py ."
      ],
      "execution_count": 2,
      "outputs": []
    },
    {
      "cell_type": "code",
      "metadata": {
        "id": "QNyjgaKYZHsj"
      },
      "source": [
        "!cp drive/MyDrive/object-tracking-main/highway.mp4 ."
      ],
      "execution_count": 3,
      "outputs": []
    },
    {
      "cell_type": "markdown",
      "metadata": {
        "id": "sfbgo8HS70kn"
      },
      "source": [
        " *Run from here*"
      ]
    },
    {
      "cell_type": "code",
      "metadata": {
        "id": "Zv9-dg94Te5f"
      },
      "source": [
        "import cv2\n",
        "from tracker import *"
      ],
      "execution_count": 4,
      "outputs": []
    },
    {
      "cell_type": "code",
      "metadata": {
        "id": "yALwoJB6hNnM"
      },
      "source": [
        "#create tracker object\n",
        "tracker = EuclideanDistTracker()\n",
        "cap = cv2.VideoCapture(\"highway.mp4\")\n",
        "\n",
        "#object detection from stable camera\n",
        "object_detector = cv2.createBackgroundSubtractorMOG2( history = 100, varThreshold = 40 )\n",
        "\n",
        "#extracts moving objects fom a stable camera\n",
        "# from google.colab.patches import cv2_imshow\n",
        "\n",
        "# while (cap.isOpened()):\n",
        "#   success, frame = cap.read()\n",
        "#   if success:\n",
        "#     cv2_imshow(frame)\n",
        "\n",
        "# cap.release()\n",
        "# cv2.destroyAllWindows() \n"
      ],
      "execution_count": 5,
      "outputs": []
    },
    {
      "cell_type": "code",
      "metadata": {
        "id": "zYWO725qCodY"
      },
      "source": [
        "from google.colab.patches import cv2_imshow\n",
        "\n",
        "while True:\n",
        "    ret, frame = cap.read()\n",
        "    height, width, _ = frame.shape\n",
        "\n",
        "    # Extract Region of interest\n",
        "    roi = frame[340: 720,500: 800]\n",
        "\n",
        "    # 1. Object Detection\n",
        "    mask = object_detector.apply(roi)\n",
        "    _, mask = cv2.threshold(mask, 254, 255, cv2.THRESH_BINARY)\n",
        "    contours, _ = cv2.findContours(mask, cv2.RETR_TREE, cv2.CHAIN_APPROX_SIMPLE)\n",
        "    detections = []\n",
        "    for cnt in contours:\n",
        "        # Calculate area and remove small elements\n",
        "        area = cv2.contourArea(cnt)\n",
        "        if area > 100:\n",
        "            #cv2.drawContours(roi, [cnt], -1, (0, 255, 0), 2)\n",
        "            x, y, w, h = cv2.boundingRect(cnt)\n",
        "\n",
        "\n",
        "            detections.append([x, y, w, h])\n",
        "\n",
        "    # 2. Object Tracking\n",
        "    boxes_ids = tracker.update(detections)\n",
        "    for box_id in boxes_ids:\n",
        "        x, y, w, h, id = box_id\n",
        "        cv2.putText(roi, str(id), (x, y - 15), cv2.FONT_HERSHEY_PLAIN, 2, (255, 0, 0), 2)\n",
        "        cv2.rectangle(roi, (x, y), (x + w, y + h), (0, 255, 0), 3)\n",
        "\n",
        "    cv2_imshow(roi)\n",
        "    cv2_imshow(frame)\n",
        "    cv2_imshow(mask)\n",
        "\n",
        "    key = cv2.waitKey(30)\n",
        "    if key == 27:\n",
        "        break\n",
        "\n",
        "cap.release()\n",
        "cv2.destroyAllWindows()"
      ],
      "execution_count": null,
      "outputs": []
    }
  ]
}